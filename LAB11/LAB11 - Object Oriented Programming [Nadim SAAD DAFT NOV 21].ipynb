{
 "cells": [
  {
   "cell_type": "code",
   "execution_count": null,
   "id": "d37d8498",
   "metadata": {},
   "outputs": [],
   "source": [
    "# Exercise 1: Remove All The Marked Elements of a List\n",
    "\n",
    "# Define a method/function that removes from a given array of integers all the values contained in a second array."
   ]
  },
  {
   "cell_type": "code",
   "execution_count": null,
   "id": "11f71f8f",
   "metadata": {},
   "outputs": [],
   "source": [
    "l = List()\n",
    "\n",
    "integer_list =  [1, 1, 2 ,3 ,1 ,2 ,3 ,4]\n",
    "values_list = [1, 3]\n",
    "l.remove_(integer_list, values_list) == [2, 2, 4]\n",
    "\n",
    "integer_list = [1, 1, 2 ,3 ,1 ,2 ,3 ,4, 4, 3 ,5, 6, 7, 2, 8]\n",
    "lst = [1, 3, 4, 2]\n",
    "l.remove_(integer_list, values_list) == [5, 6 ,7 ,8]\n",
    "\n",
    "integer_list = [8, 2, 7, 2, 3, 4, 6, 5, 4, 4, 1, 2 , 3]\n",
    "lst = [2, 4, 3]\n",
    "l.remove_(integer_list, values_list) == [8, 7, 6, 5, 1]"
   ]
  },
  {
   "cell_type": "code",
   "execution_count": 9,
   "id": "d540a357",
   "metadata": {},
   "outputs": [
    {
     "name": "stdout",
     "output_type": "stream",
     "text": [
      "The original list is : [1, 1, 2, 3, 1, 2, 3, 4]\n",
      "The remove list is : [1, 3]\n",
      "The list after the remove operation is : [2, 2, 4]\n"
     ]
    }
   ],
   "source": [
    "list = [1, 1, 2 ,3 ,1 ,2 ,3 ,4]\n",
    "\n",
    "remove_list = [1, 3]\n",
    "\n",
    "print (\"The original list is : \" + str(list))\n",
    "\n",
    "print (\"The remove list is : \" + str(remove_list))\n",
    " \n",
    "new_list = [i for i in list if i not in remove_list]\n",
    " \n",
    "print (\"The list after the remove operation is : \" + str(new_list))"
   ]
  },
  {
   "cell_type": "code",
   "execution_count": 4,
   "id": "37ca9709",
   "metadata": {},
   "outputs": [],
   "source": [
    "# Exercise 2: Method For Counting Total Occurence Of Specific Digits\n",
    "\n",
    "# We need a method in the List Class that may count specific digits from a given list of integers. \n",
    "# This marked digits will be given in a second list. \n",
    "# The method .count_spec_digits()/.countSpecDigits() will accept two arguments, \n",
    "# a list of an uncertain amount of integers integers_lists/integersLists \n",
    "# (and of an uncertain amount of digits, too) and a second list, digits_list/digitsList that has \n",
    "# the specific digits to count which length cannot be be longer than 10 (It's obvious, we've got ten digits). \n",
    "# The method will output a list of tuples, each tuple having two elements, \n",
    "# the first one will be a digit to count, and second one, its corresponding total frequency \n",
    "# in all the integers of the first list. \n",
    "# This list of tuples should be ordered with the same order that the digits have in digitsList"
   ]
  },
  {
   "cell_type": "code",
   "execution_count": null,
   "id": "63604daa",
   "metadata": {},
   "outputs": [],
   "source": [
    "l = List()\n",
    "\n",
    "integersList =  [1, 1, 2 ,3 ,1 ,2 ,3 ,4]\n",
    "digitsList = [1, 3]\n",
    "l.count_spec_digits(integersList, digitsList) == [(1, 3), (3, 2)]\n",
    "\n",
    "integersList = [-18, -31, 81, -19, 111, -888]\n",
    "digitsList = [1, 8, 4]\n",
    "l.count_spec_digits(integersList, digitsList) == [(1, 7), (8, 5), (4, 0)]\n",
    "\n",
    "integersList = [-77, -65, 56, -79, 6666, 222]\n",
    "digitsList = [1, 8, 4]\n",
    "l.count_spec_digits(integersList, digitsList) == [(1, 0), (8, 0), (4, 0)]"
   ]
  },
  {
   "cell_type": "code",
   "execution_count": null,
   "id": "a6e5cf99",
   "metadata": {},
   "outputs": [],
   "source": [
    "# Exercise 3: Ordered Count of Characters\n",
    "\n",
    "# Count the number of occurrences of each character and return it as a list of tuples in order of appearance. \n",
    "# For empty output return an empty list."
   ]
  },
  {
   "cell_type": "code",
   "execution_count": 14,
   "id": "8f9f3917",
   "metadata": {},
   "outputs": [
    {
     "ename": "NameError",
     "evalue": "name 'orderedCount' is not defined",
     "output_type": "error",
     "traceback": [
      "\u001b[0;31m---------------------------------------------------------------------------\u001b[0m",
      "\u001b[0;31mNameError\u001b[0m                                 Traceback (most recent call last)",
      "\u001b[0;32m<ipython-input-14-79bd86eccc33>\u001b[0m in \u001b[0;36m<module>\u001b[0;34m\u001b[0m\n\u001b[1;32m      1\u001b[0m \u001b[0;31m# orderedCount(\"abracadabra\") == [['a', 5], ['b', 2], ['r', 2], ['c', 1], ['d', 1]]\u001b[0m\u001b[0;34m\u001b[0m\u001b[0;34m\u001b[0m\u001b[0;34m\u001b[0m\u001b[0m\n\u001b[0;32m----> 2\u001b[0;31m \u001b[0morderedCount\u001b[0m\u001b[0;34m(\u001b[0m\u001b[0;34m\"abracadabra\"\u001b[0m\u001b[0;34m)\u001b[0m\u001b[0;34m\u001b[0m\u001b[0;34m\u001b[0m\u001b[0m\n\u001b[0m\u001b[1;32m      3\u001b[0m \u001b[0mtemp\u001b[0m \u001b[0;34m=\u001b[0m \u001b[0mlist\u001b[0m\u001b[0;34m(\u001b[0m\u001b[0;34m(\u001b[0m\u001b[0mint\u001b[0m\u001b[0;34m(\u001b[0m\u001b[0mj\u001b[0m\u001b[0;34m)\u001b[0m \u001b[0;32mfor\u001b[0m \u001b[0mi\u001b[0m \u001b[0;32min\u001b[0m \u001b[0mtuple_list\u001b[0m \u001b[0;32mfor\u001b[0m \u001b[0mj\u001b[0m \u001b[0;32min\u001b[0m \u001b[0mi\u001b[0m\u001b[0;34m)\u001b[0m\u001b[0;34m)\u001b[0m\u001b[0;34m\u001b[0m\u001b[0;34m\u001b[0m\u001b[0m\n\u001b[1;32m      4\u001b[0m \u001b[0mresult\u001b[0m \u001b[0;34m=\u001b[0m \u001b[0mlen\u001b[0m\u001b[0;34m(\u001b[0m\u001b[0mtemp\u001b[0m\u001b[0;34m)\u001b[0m\u001b[0;34m\u001b[0m\u001b[0;34m\u001b[0m\u001b[0m\n\u001b[1;32m      5\u001b[0m \u001b[0;34m\u001b[0m\u001b[0m\n",
      "\u001b[0;31mNameError\u001b[0m: name 'orderedCount' is not defined"
     ]
    }
   ],
   "source": [
    "# orderedCount(\"abracadabra\") == [['a', 5], ['b', 2], ['r', 2], ['c', 1], ['d', 1]]\n",
    "orderedCount(\"abracadabra\")\n",
    "temp = list((int(j) for i in tuple_list for j in i))\n",
    "result = len(temp)\n",
    "  \n",
    "print(\"The tuple list elements count : \" + str(result))"
   ]
  },
  {
   "cell_type": "code",
   "execution_count": null,
   "id": "8c776bd2",
   "metadata": {},
   "outputs": [],
   "source": []
  }
 ],
 "metadata": {
  "kernelspec": {
   "display_name": "Python 3",
   "language": "python",
   "name": "python3"
  },
  "language_info": {
   "codemirror_mode": {
    "name": "ipython",
    "version": 3
   },
   "file_extension": ".py",
   "mimetype": "text/x-python",
   "name": "python",
   "nbconvert_exporter": "python",
   "pygments_lexer": "ipython3",
   "version": "3.8.8"
  }
 },
 "nbformat": 4,
 "nbformat_minor": 5
}
