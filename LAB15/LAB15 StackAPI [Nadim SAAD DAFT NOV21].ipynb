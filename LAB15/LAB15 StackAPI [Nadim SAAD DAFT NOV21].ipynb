{
 "cells": [
  {
   "cell_type": "markdown",
   "metadata": {},
   "source": [
    "# StackAPI\n",
    "\n",
    "#### Import the necessary libraries here:"
   ]
  },
  {
   "cell_type": "code",
   "execution_count": 6,
   "metadata": {},
   "outputs": [],
   "source": [
    "import stackapi"
   ]
  },
  {
   "cell_type": "markdown",
   "metadata": {},
   "source": [
    "#### Question 1: Find the questions and answers of last month."
   ]
  },
  {
   "cell_type": "code",
   "execution_count": null,
   "metadata": {},
   "outputs": [],
   "source": [
    "# Question 1: Find the questions and answers of last month"
   ]
  },
  {
   "cell_type": "code",
   "execution_count": 7,
   "metadata": {},
   "outputs": [
    {
     "data": {
      "text/plain": [
       "{'backoff': 0,\n",
       " 'has_more': False,\n",
       " 'items': [{'accepted_answer_id': 35818398,\n",
       "   'answer_count': 2,\n",
       "   'creation_date': 1457186774,\n",
       "   'is_answered': True,\n",
       "   'last_activity_date': 1457246584,\n",
       "   'last_edit_date': 1457200889,\n",
       "   'link': 'http://stackoverflow.com/questions/35815093/sine-calculation-orders-of-magnitude-slower-than-cosine',\n",
       "   'owner': {'accept_rate': 80,\n",
       "    'display_name': 'Finwood',\n",
       "    'link': 'http://stackoverflow.com/users/1525423/finwood',\n",
       "    'profile_image': 'https://i.stack.imgur.com/xkRry.png?s=128&g=1',\n",
       "    'reputation': 1575,\n",
       "    'user_id': 1525423,\n",
       "    'user_type': 'registered'},\n",
       "   'question_id': 35815093,\n",
       "   'score': 22,\n",
       "   'tags': ['python', 'numpy', 'scipy', 'signal-processing'],\n",
       "   'title': 'sine calculation orders of magnitude slower than cosine',\n",
       "   'view_count': 404}],\n",
       " 'page': 1,\n",
       " 'quota_max': 300,\n",
       " 'quota_remaining': 171,\n",
       " 'total': 0}"
      ]
     },
     "execution_count": 7,
     "metadata": {},
     "output_type": "execute_result"
    }
   ],
   "source": [
    "from stackapi import StackAPI\n",
    "SITE = StackAPI('stackoverflow')\n",
    "questions = SITE.fetch('questions', fromdate=1457136000, todate=1457222400,\n",
    "    min=20, tagged='python', sort='votes')\n",
    "questions\n",
    "{\n",
    "    'backoff': 0,\n",
    "    'has_more': False,\n",
    "    'items': [\n",
    "                {\n",
    "                    u'accepted_answer_id': 35818398,\n",
    "                    u'answer_count': 2,\n",
    "                    u'creation_date': 1457186774,\n",
    "                    u'is_answered': True,\n",
    "                    u'last_activity_date': 1457246584,\n",
    "                    u'last_edit_date': 1457200889,\n",
    "                    u'link': u'http://stackoverflow.com/questions/35815093/sine-calculation-orders-of-magnitude-slower-than-cosine',\n",
    "                    u'owner': {u'accept_rate': 80,\n",
    "                               u'display_name': u'Finwood',\n",
    "                               u'link': u'http://stackoverflow.com/users/1525423/finwood',\n",
    "                               u'profile_image': u'https://i.stack.imgur.com/xkRry.png?s=128&g=1',\n",
    "                               u'reputation': 1575,\n",
    "                               u'user_id': 1525423,\n",
    "                               u'user_type': u'registered'},\n",
    "                    u'question_id': 35815093,\n",
    "                    u'score': 22,\n",
    "                    u'tags': [u'python', u'numpy', u'scipy', u'signal-processing'],\n",
    "                    u'title': u'sine calculation orders of magnitude slower than cosine',\n",
    "                    u'view_count': 404\n",
    "                }\n",
    "             ],\n",
    "    'page': 1,\n",
    "    'quota_max': 300,\n",
    "    'quota_remaining': 171,\n",
    "    'total': 0\n",
    "}"
   ]
  },
  {
   "cell_type": "markdown",
   "metadata": {},
   "source": [
    "#### Question 2: Find the most voted question today with at least a score of 5 and tagged with 'python'. "
   ]
  },
  {
   "cell_type": "code",
   "execution_count": null,
   "metadata": {},
   "outputs": [],
   "source": [
    "# your code here"
   ]
  },
  {
   "cell_type": "markdown",
   "metadata": {},
   "source": [
    "#### Question 3: Find the answers with id 6784 and 6473."
   ]
  },
  {
   "cell_type": "code",
   "execution_count": 1,
   "metadata": {},
   "outputs": [
    {
     "ename": "SyntaxError",
     "evalue": "invalid syntax (<ipython-input-1-ae58679766ff>, line 5)",
     "output_type": "error",
     "traceback": [
      "\u001b[0;36m  File \u001b[0;32m\"<ipython-input-1-ae58679766ff>\"\u001b[0;36m, line \u001b[0;32m5\u001b[0m\n\u001b[0;31m    >>> badges\u001b[0m\n\u001b[0m    ^\u001b[0m\n\u001b[0;31mSyntaxError\u001b[0m\u001b[0;31m:\u001b[0m invalid syntax\n"
     ]
    }
   ],
   "source": [
    "# your code here\n",
    "from stackapi import StackAPI\n",
    "SITE = StackAPI('stackoverflow')\n",
    "badges = SITE.fetch('badges', ids=[222, 1306, 99999])\n",
    ">>> badges\n",
    "{\n",
    "    'backoff': 0,\n",
    "    'has_more': False,\n",
    "    'items': [\n",
    "                {\n",
    "                    u'award_count': 6036,\n",
    "                    u'badge_id': 222,\n",
    "                    u'badge_type': u'named',\n",
    "                    u'link': u'http://stackoverflow.com/badges/222/altruist',\n",
    "                    u'name': u'Altruist',\n",
    "                    u'rank': u'bronze'\n",
    "                },\n",
    "                {\n",
    "                    u'award_count': 43954,\n",
    "                    u'badge_id': 1306,\n",
    "                    u'badge_type': u'named',\n",
    "                    u'link': u'http://stackoverflow.com/badges/1306/analytical',\n",
    "                    u'name': u'Analytical',\n",
    "                    u'rank': u'bronze'\n",
    "                }\n",
    "            ],\n",
    "    'page': 1,\n",
    "    'quota_max': 300,\n",
    "    'quota_remaining': 160,\n",
    "    'total': 0\n",
    "}"
   ]
  },
  {
   "cell_type": "code",
   "execution_count": null,
   "metadata": {},
   "outputs": [],
   "source": []
  }
 ],
 "metadata": {
  "kernelspec": {
   "display_name": "Python 3",
   "language": "python",
   "name": "python3"
  },
  "language_info": {
   "codemirror_mode": {
    "name": "ipython",
    "version": 3
   },
   "file_extension": ".py",
   "mimetype": "text/x-python",
   "name": "python",
   "nbconvert_exporter": "python",
   "pygments_lexer": "ipython3",
   "version": "3.8.8"
  }
 },
 "nbformat": 4,
 "nbformat_minor": 2
}
