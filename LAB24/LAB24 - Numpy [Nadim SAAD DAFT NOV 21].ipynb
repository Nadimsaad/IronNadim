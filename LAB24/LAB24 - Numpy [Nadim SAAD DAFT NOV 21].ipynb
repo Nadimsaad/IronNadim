{
 "cells": [
  {
   "cell_type": "markdown",
   "metadata": {},
   "source": [
    "# Intrduction to NumPy\n",
    "\n",
    "\n",
    "#### 1. Import NumPy under the name np."
   ]
  },
  {
   "cell_type": "code",
   "execution_count": 1,
   "metadata": {},
   "outputs": [],
   "source": [
    "import numpy as np"
   ]
  },
  {
   "cell_type": "markdown",
   "metadata": {},
   "source": [
    "#### 2. Print your NumPy version."
   ]
  },
  {
   "cell_type": "code",
   "execution_count": 3,
   "metadata": {},
   "outputs": [
    {
     "name": "stdout",
     "output_type": "stream",
     "text": [
      "1.20.1\n"
     ]
    }
   ],
   "source": [
    "import numpy\n",
    "print(numpy.__version__)"
   ]
  },
  {
   "cell_type": "markdown",
   "metadata": {},
   "source": [
    "#### 3. Generate a 2x3x5 3-dimensional array with random values. Assign the array to variable *a*.\n",
    "**Challenge**: there are at least three easy ways that use numpy to generate random arrays. How many ways can you find?"
   ]
  },
  {
   "cell_type": "code",
   "execution_count": 20,
   "metadata": {},
   "outputs": [
    {
     "name": "stdout",
     "output_type": "stream",
     "text": [
      "[[[ 0  1  2  3  4]\n",
      "  [ 5  6  7  8  9]\n",
      "  [10 11 12 13 14]]\n",
      "\n",
      " [[15 16 17 18 19]\n",
      "  [20 21 22 23 24]\n",
      "  [25 26 27 28 29]]]\n"
     ]
    }
   ],
   "source": [
    "# Method 1\n",
    "a=np.arange(30).reshape(2,3,5)\n",
    "print(a)"
   ]
  },
  {
   "cell_type": "code",
   "execution_count": 8,
   "metadata": {},
   "outputs": [
    {
     "name": "stdout",
     "output_type": "stream",
     "text": [
      "[[0.64219863 0.91615356 0.16695755 0.62945446]\n",
      " [0.81009686 0.18165128 0.61369339 0.56228308]]\n"
     ]
    }
   ],
   "source": [
    "# Method 2\n",
    "a2 = np.random.rand(2,4)\n",
    "\n",
    "print(a2)"
   ]
  },
  {
   "cell_type": "code",
   "execution_count": 9,
   "metadata": {},
   "outputs": [
    {
     "name": "stdout",
     "output_type": "stream",
     "text": [
      "[[[0.12271487 0.47035074 0.27376873]\n",
      "  [0.53004614 0.24463314 0.59038857]]\n",
      "\n",
      " [[0.48158393 0.90064366 0.17469655]\n",
      "  [0.48748119 0.90862087 0.06390476]]\n",
      "\n",
      " [[0.45906104 0.20762526 0.03609656]\n",
      "  [0.31486469 0.20011815 0.5345844 ]]\n",
      "\n",
      " [[0.9258582  0.56623122 0.57203381]\n",
      "  [0.51986191 0.01654364 0.6295039 ]]]\n"
     ]
    }
   ],
   "source": [
    "# Method 3\n",
    "a3 = np.random.rand(4,2,3)\n",
    "\n",
    "print(a3)"
   ]
  },
  {
   "cell_type": "markdown",
   "metadata": {},
   "source": [
    "#### 4. Print *a*.\n"
   ]
  },
  {
   "cell_type": "code",
   "execution_count": 21,
   "metadata": {},
   "outputs": [
    {
     "name": "stdout",
     "output_type": "stream",
     "text": [
      "[[[ 0  1  2  3  4]\n",
      "  [ 5  6  7  8  9]\n",
      "  [10 11 12 13 14]]\n",
      "\n",
      " [[15 16 17 18 19]\n",
      "  [20 21 22 23 24]\n",
      "  [25 26 27 28 29]]]\n",
      "[[0.64219863 0.91615356 0.16695755 0.62945446]\n",
      " [0.81009686 0.18165128 0.61369339 0.56228308]]\n",
      "[[[0.12271487 0.47035074 0.27376873]\n",
      "  [0.53004614 0.24463314 0.59038857]]\n",
      "\n",
      " [[0.48158393 0.90064366 0.17469655]\n",
      "  [0.48748119 0.90862087 0.06390476]]\n",
      "\n",
      " [[0.45906104 0.20762526 0.03609656]\n",
      "  [0.31486469 0.20011815 0.5345844 ]]\n",
      "\n",
      " [[0.9258582  0.56623122 0.57203381]\n",
      "  [0.51986191 0.01654364 0.6295039 ]]]\n"
     ]
    }
   ],
   "source": [
    "# Method 1:\n",
    "print(a)\n",
    "print(a2)\n",
    "print(a3)"
   ]
  },
  {
   "cell_type": "markdown",
   "metadata": {},
   "source": [
    "#### 5. Create a 5x2x3 3-dimensional array with all values equaling 1. Assign the array to variable *b*."
   ]
  },
  {
   "cell_type": "code",
   "execution_count": 15,
   "metadata": {},
   "outputs": [],
   "source": [
    "# your code here\n",
    "#b = np.random.rand(5,2,3)\n",
    "b= np.ones((5,2,3))"
   ]
  },
  {
   "cell_type": "markdown",
   "metadata": {},
   "source": [
    "#### 6. Print *b*.\n"
   ]
  },
  {
   "cell_type": "code",
   "execution_count": 16,
   "metadata": {},
   "outputs": [
    {
     "name": "stdout",
     "output_type": "stream",
     "text": [
      "[[[1. 1. 1.]\n",
      "  [1. 1. 1.]]\n",
      "\n",
      " [[1. 1. 1.]\n",
      "  [1. 1. 1.]]\n",
      "\n",
      " [[1. 1. 1.]\n",
      "  [1. 1. 1.]]\n",
      "\n",
      " [[1. 1. 1.]\n",
      "  [1. 1. 1.]]\n",
      "\n",
      " [[1. 1. 1.]\n",
      "  [1. 1. 1.]]]\n"
     ]
    }
   ],
   "source": [
    "print(b)"
   ]
  },
  {
   "cell_type": "markdown",
   "metadata": {},
   "source": [
    "#### 7. Do *a* and *b* have the same size? How do you prove that in Python code?"
   ]
  },
  {
   "cell_type": "code",
   "execution_count": 22,
   "metadata": {},
   "outputs": [
    {
     "name": "stdout",
     "output_type": "stream",
     "text": [
      "(2, 3, 5)\n",
      "(5, 2, 3)\n"
     ]
    }
   ],
   "source": [
    "print(a.shape)\n",
    "print(b.shape) \n",
    "# No they have 2 different sizes"
   ]
  },
  {
   "cell_type": "markdown",
   "metadata": {},
   "source": [
    "#### 8. Are you able to add *a* and *b*? Why or why not?\n"
   ]
  },
  {
   "cell_type": "code",
   "execution_count": 23,
   "metadata": {},
   "outputs": [
    {
     "ename": "ValueError",
     "evalue": "operands could not be broadcast together with shapes (2,3,5) (5,2,3) ",
     "output_type": "error",
     "traceback": [
      "\u001b[0;31m---------------------------------------------------------------------------\u001b[0m",
      "\u001b[0;31mValueError\u001b[0m                                Traceback (most recent call last)",
      "\u001b[0;32m<ipython-input-23-d5ce9f282037>\u001b[0m in \u001b[0;36m<module>\u001b[0;34m\u001b[0m\n\u001b[0;32m----> 1\u001b[0;31m \u001b[0mnp\u001b[0m\u001b[0;34m.\u001b[0m\u001b[0madd\u001b[0m\u001b[0;34m(\u001b[0m\u001b[0ma\u001b[0m\u001b[0;34m,\u001b[0m\u001b[0mb\u001b[0m\u001b[0;34m)\u001b[0m\u001b[0;34m\u001b[0m\u001b[0;34m\u001b[0m\u001b[0m\n\u001b[0m",
      "\u001b[0;31mValueError\u001b[0m: operands could not be broadcast together with shapes (2,3,5) (5,2,3) "
     ]
    }
   ],
   "source": [
    "np.add(a,b) # since they are of 2 different shapes, the add operation couldn't be executed"
   ]
  },
  {
   "cell_type": "markdown",
   "metadata": {},
   "source": [
    "#### 9. Transpose *b* so that it has the same structure of *a* (i.e. become a 2x3x5 array). Assign the transposed array to variable *c*."
   ]
  },
  {
   "cell_type": "code",
   "execution_count": 35,
   "metadata": {},
   "outputs": [
    {
     "name": "stdout",
     "output_type": "stream",
     "text": [
      "[[[1. 1. 1. 1. 1.]\n",
      "  [1. 1. 1. 1. 1.]\n",
      "  [1. 1. 1. 1. 1.]]\n",
      "\n",
      " [[1. 1. 1. 1. 1.]\n",
      "  [1. 1. 1. 1. 1.]\n",
      "  [1. 1. 1. 1. 1.]]]\n",
      "(2, 3, 5)\n"
     ]
    }
   ],
   "source": [
    "c= numpy.reshape(b,(2,3,5))\n",
    "print(c)\n",
    "print(c.shape) "
   ]
  },
  {
   "cell_type": "markdown",
   "metadata": {},
   "source": [
    "#### 10. Try to add *a* and *c*. Now it should work. Assign the sum to variable *d*. But why does it work now?"
   ]
  },
  {
   "cell_type": "code",
   "execution_count": 37,
   "metadata": {},
   "outputs": [
    {
     "data": {
      "text/plain": [
       "array([[[ 1.,  2.,  3.,  4.,  5.],\n",
       "        [ 6.,  7.,  8.,  9., 10.],\n",
       "        [11., 12., 13., 14., 15.]],\n",
       "\n",
       "       [[16., 17., 18., 19., 20.],\n",
       "        [21., 22., 23., 24., 25.],\n",
       "        [26., 27., 28., 29., 30.]]])"
      ]
     },
     "execution_count": 37,
     "metadata": {},
     "output_type": "execute_result"
    }
   ],
   "source": [
    "d=np.add(a,c)\n",
    "d # both arrays a and c have the same shape now of 2x3x5"
   ]
  },
  {
   "cell_type": "markdown",
   "metadata": {},
   "source": [
    "#### 11. Print *a* and *d*. Notice the difference and relation of the two array in terms of the values? Explain."
   ]
  },
  {
   "cell_type": "code",
   "execution_count": 40,
   "metadata": {},
   "outputs": [
    {
     "name": "stdout",
     "output_type": "stream",
     "text": [
      "[[[ 0  1  2  3  4]\n",
      "  [ 5  6  7  8  9]\n",
      "  [10 11 12 13 14]]\n",
      "\n",
      " [[15 16 17 18 19]\n",
      "  [20 21 22 23 24]\n",
      "  [25 26 27 28 29]]]\n",
      "[[[ 1.  2.  3.  4.  5.]\n",
      "  [ 6.  7.  8.  9. 10.]\n",
      "  [11. 12. 13. 14. 15.]]\n",
      "\n",
      " [[16. 17. 18. 19. 20.]\n",
      "  [21. 22. 23. 24. 25.]\n",
      "  [26. 27. 28. 29. 30.]]]\n"
     ]
    }
   ],
   "source": [
    "print(a) # Values in a are integers \n",
    "print(d) # Whereas in d they are floats"
   ]
  },
  {
   "cell_type": "markdown",
   "metadata": {},
   "source": [
    "#### 12. Multiply *a* and *c*. Assign the result to *e*."
   ]
  },
  {
   "cell_type": "code",
   "execution_count": 41,
   "metadata": {},
   "outputs": [
    {
     "data": {
      "text/plain": [
       "array([[[ 0.,  1.,  2.,  3.,  4.],\n",
       "        [ 5.,  6.,  7.,  8.,  9.],\n",
       "        [10., 11., 12., 13., 14.]],\n",
       "\n",
       "       [[15., 16., 17., 18., 19.],\n",
       "        [20., 21., 22., 23., 24.],\n",
       "        [25., 26., 27., 28., 29.]]])"
      ]
     },
     "execution_count": 41,
     "metadata": {},
     "output_type": "execute_result"
    }
   ],
   "source": [
    "e=a*c\n",
    "e"
   ]
  },
  {
   "cell_type": "markdown",
   "metadata": {},
   "source": [
    "#### 13. Does *e* equal to *a*? Why or why not?\n"
   ]
  },
  {
   "cell_type": "code",
   "execution_count": 42,
   "metadata": {},
   "outputs": [
    {
     "name": "stdout",
     "output_type": "stream",
     "text": [
      "[[[ 0  1  2  3  4]\n",
      "  [ 5  6  7  8  9]\n",
      "  [10 11 12 13 14]]\n",
      "\n",
      " [[15 16 17 18 19]\n",
      "  [20 21 22 23 24]\n",
      "  [25 26 27 28 29]]]\n",
      "[[[ 0.  1.  2.  3.  4.]\n",
      "  [ 5.  6.  7.  8.  9.]\n",
      "  [10. 11. 12. 13. 14.]]\n",
      "\n",
      " [[15. 16. 17. 18. 19.]\n",
      "  [20. 21. 22. 23. 24.]\n",
      "  [25. 26. 27. 28. 29.]]]\n"
     ]
    }
   ],
   "source": [
    "print(a)\n",
    "print(e) # The values are equal but the value types are different (a is an integer and e a float)"
   ]
  },
  {
   "cell_type": "markdown",
   "metadata": {},
   "source": [
    "#### 14. Identify the max, min, and mean values in *d*. Assign those values to variables *d_max*, *d_min* and *d_mean*."
   ]
  },
  {
   "cell_type": "code",
   "execution_count": 45,
   "metadata": {},
   "outputs": [
    {
     "name": "stdout",
     "output_type": "stream",
     "text": [
      "30.0\n",
      "1.0\n",
      "15.5\n"
     ]
    }
   ],
   "source": [
    "d_max=numpy.max(d)\n",
    "print(d_max)\n",
    "d_min=numpy.min(d)\n",
    "print(d_min)\n",
    "d_mean=numpy.mean(d)\n",
    "print(d_mean)"
   ]
  },
  {
   "cell_type": "markdown",
   "metadata": {},
   "source": [
    "#### 15. Now we want to label the values in *d*. First create an empty array *f* with the same shape (i.e. 2x3x5) as *d* using `np.empty`.\n"
   ]
  },
  {
   "cell_type": "code",
   "execution_count": 53,
   "metadata": {},
   "outputs": [
    {
     "name": "stdout",
     "output_type": "stream",
     "text": [
      "[[[-5764607523034234880 -5764607523034234880                   21\n",
      "                      0                    0]\n",
      "  [ 7235419174270214779  3630808633868171810  4062922381397878327\n",
      "    3558514654192940130  3690525309447398242]\n",
      "  [ 3617571785217751345  8385534776637008930  8391088163801886841\n",
      "    8440357178021340530  2478507435169572211]]\n",
      "\n",
      " [[ 8317419966675427898  7310224193103356257  2466321603649696627\n",
      "    3775766027149326133  3545566800955990317]\n",
      "  [ 3702911282872203619  7005684791393728312  7310575177827099191\n",
      "    3256439188146502178  3832937336714113585]\n",
      "  [ 3904110927849926714  3180203480039633718  7957695011148363298\n",
      "    9016825677502102050                    0]]]\n"
     ]
    }
   ],
   "source": [
    "f= np.empty(shape=[2, 3,5], dtype=int) \n",
    "# f= np.zeros(shape=[2, 3,5], dtype=int) to have a 3d array with zeros \n",
    "print(f)"
   ]
  },
  {
   "cell_type": "markdown",
   "metadata": {},
   "source": [
    "#### 16. Populate the values in *f*. \n",
    "\n",
    "For each value in *d*, if it's larger than *d_min* but smaller than *d_mean*, assign 25 to the corresponding value in *f*. If a value in *d* is larger than *d_mean* but smaller than *d_max*, assign 75 to the corresponding value in *f*. If a value equals to *d_mean*, assign 50 to the corresponding value in *f*. Assign 0 to the corresponding value(s) in *f* for *d_min* in *d*. Assign 100 to the corresponding value(s) in *f* for *d_max* in *d*. In the end, f should have only the following values: 0, 25, 50, 75, and 100.\n",
    "\n",
    "**Note**: you don't have to use Numpy in this question."
   ]
  },
  {
   "cell_type": "code",
   "execution_count": 63,
   "metadata": {},
   "outputs": [
    {
     "name": "stdout",
     "output_type": "stream",
     "text": [
      "[[[0, 25, 25, 25, 25], [25, 25, 25, 25, 25], [25, 25, 25, 25, 25]], [[75, 75, 75, 75, 75], [75, 75, 75, 75, 75], [75, 75, 75, 75, 100]]]\n"
     ]
    }
   ],
   "source": [
    "f1 = [[[25 if d_min<item<d_mean else 75 if d_mean<item< d_max else 50 if item == d_mean else 0 if item == d_min else 100 for item in in_list] for in_list in out_list] for out_list in d]\n",
    "print(f1)"
   ]
  },
  {
   "cell_type": "markdown",
   "metadata": {},
   "source": [
    "#### 17. Print *d* and *f*. Do you have your expected *f*?\n",
    "For instance, if your *d* is:\n",
    "```python\n",
    "[[[1.85836099, 1.67064465, 1.62576044, 1.40243961, 1.88454931],\n",
    "[1.75354326, 1.69403643, 1.36729252, 1.61415071, 1.12104981],\n",
    "[1.72201435, 1.1862918 , 1.87078449, 1.7726778 , 1.88180042]],\n",
    "[[1.44747908, 1.31673383, 1.02000951, 1.52218947, 1.97066381],\n",
    "[1.79129243, 1.74983003, 1.96028037, 1.85166831, 1.65450881],\n",
    "[1.18068344, 1.9587381 , 1.00656599, 1.93402165, 1.73514584]]]\n",
    "```\n",
    "Your *f* should be:\n",
    "```python\n",
    "[[[ 75.,  75.,  75.,  25.,  75.],\n",
    "[ 75.,  75.,  25.,  25.,  25.],\n",
    "[ 75.,  25.,  75.,  75.,  75.]],\n",
    "[[ 25.,  25.,  25.,  25., 100.],\n",
    "[ 75.,  75.,  75.,  75.,  75.],\n",
    "[ 25.,  75.,   0.,  75.,  75.]]]\n",
    "```"
   ]
  },
  {
   "cell_type": "code",
   "execution_count": 69,
   "metadata": {},
   "outputs": [
    {
     "name": "stdout",
     "output_type": "stream",
     "text": [
      "[[[1.85836099, 1.67064465, 1.62576044, 1.40243961, 1.88454931], [1.75354326, 1.69403643, 1.36729252, 1.61415071, 1.12104981], [1.72201435, 1.1862918, 1.87078449, 1.7726778, 1.88180042]], [[1.44747908, 1.31673383, 1.02000951, 1.52218947, 1.97066381], [1.79129243, 1.74983003, 1.96028037, 1.85166831, 1.65450881], [1.18068344, 1.9587381, 1.00656599, 1.93402165, 1.73514584]]]\n",
      "1.97066381\n",
      "1.00656599\n",
      "1.6175069086666667\n",
      "[[[75, 75, 75, 25, 75], [75, 75, 25, 25, 25], [75, 25, 75, 75, 75]], [[25, 25, 25, 25, 100], [75, 75, 75, 75, 75], [25, 75, 0, 75, 75]]]\n"
     ]
    }
   ],
   "source": [
    "d=[[[1.85836099, 1.67064465, 1.62576044, 1.40243961, 1.88454931],\n",
    "[1.75354326, 1.69403643, 1.36729252, 1.61415071, 1.12104981],\n",
    "[1.72201435, 1.1862918 , 1.87078449, 1.7726778 , 1.88180042]],\n",
    "[[1.44747908, 1.31673383, 1.02000951, 1.52218947, 1.97066381],\n",
    "[1.79129243, 1.74983003, 1.96028037, 1.85166831, 1.65450881],\n",
    "[1.18068344, 1.9587381 , 1.00656599, 1.93402165, 1.73514584]]]\n",
    "print (d)\n",
    "d_max=numpy.max(d)\n",
    "print(d_max)\n",
    "d_min=numpy.min(d)\n",
    "print(d_min)\n",
    "d_mean=numpy.mean(d)\n",
    "print(d_mean)\n",
    "f2 = [[[25 if d_min<item<d_mean else 75 if d_mean<item< d_max else 50 if item == d_mean else 0 if item == d_min else 100 for item in in_list] for in_list in out_list] for out_list in d]\n",
    "print(f2)"
   ]
  },
  {
   "cell_type": "markdown",
   "metadata": {},
   "source": [
    "#### 18. Bonus question: instead of using numbers (i.e. 0, 25, 50, 75, and 100), use string values  (\"A\", \"B\", \"C\", \"D\", and \"E\") to label the array elements. For the example above, the expected result is:\n",
    "\n",
    "```python\n",
    "[[[ 'D',  'D',  'D',  'B',  'D'],\n",
    "[ 'D',  'D',  'B',  'B',  'B'],\n",
    "[ 'D',  'B',  'D',  'D',  'D']],\n",
    "[[ 'B',  'B',  'B',  'B',  'E'],\n",
    "[ 'D',  'D',  'D',  'D',  'D'],\n",
    "[ 'B',  'D',   'A',  'D', 'D']]]\n",
    "```\n",
    "**Note**: you don't have to use Numpy in this question."
   ]
  },
  {
   "cell_type": "code",
   "execution_count": 70,
   "metadata": {},
   "outputs": [
    {
     "name": "stdout",
     "output_type": "stream",
     "text": [
      "[[['D', 'D', 'D', 'B', 'D'], ['D', 'D', 'B', 'B', 'B'], ['D', 'B', 'D', 'D', 'D']], [['B', 'B', 'B', 'B', 'E'], ['D', 'D', 'D', 'D', 'D'], ['B', 'D', 'A', 'D', 'D']]]\n"
     ]
    }
   ],
   "source": [
    "f3 = [[[\"B\" if d_min<item<d_mean else \"D\" if d_mean<item< d_max else \"C\" if item == d_mean else \"A\" if item == d_min else \"E\" for item in in_list] for in_list in out_list] for out_list in d]\n",
    "print(f3)"
   ]
  },
  {
   "cell_type": "code",
   "execution_count": null,
   "metadata": {},
   "outputs": [],
   "source": []
  }
 ],
 "metadata": {
  "kernelspec": {
   "display_name": "Python 3",
   "language": "python",
   "name": "python3"
  },
  "language_info": {
   "codemirror_mode": {
    "name": "ipython",
    "version": 3
   },
   "file_extension": ".py",
   "mimetype": "text/x-python",
   "name": "python",
   "nbconvert_exporter": "python",
   "pygments_lexer": "ipython3",
   "version": "3.8.8"
  }
 },
 "nbformat": 4,
 "nbformat_minor": 2
}
