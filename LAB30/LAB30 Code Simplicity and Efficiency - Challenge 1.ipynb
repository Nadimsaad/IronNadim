{
 "cells": [
  {
   "cell_type": "code",
   "execution_count": null,
   "id": "6e44337e",
   "metadata": {},
   "outputs": [],
   "source": [
    "# Challenge 1"
   ]
  },
  {
   "cell_type": "code",
   "execution_count": null,
   "id": "d66f66e3",
   "metadata": {},
   "outputs": [],
   "source": [
    "\"\"\"\n",
    "This is a dumb calculator that can add and subtract whole numbers from zero to five.\n",
    "When you run the code, you are prompted to enter two numbers (in the form of English\n",
    "word instead of number) and the operator sign (also in the form of English word).\n",
    "The code will perform the calculation and give the result if your input is what it\n",
    "expects.\n",
    "\n",
    "The code is very long and messy. Refactor it according to what you have learned about\n",
    "code simplicity and efficiency.\n",
    "\"\"\"\n",
    "\n",
    "print('Welcome to this calculator!')\n",
    "print('It can add and subtract whole numbers from zero to five')"
   ]
  },
  {
   "cell_type": "code",
   "execution_count": 19,
   "id": "c2d65c26",
   "metadata": {},
   "outputs": [],
   "source": [
    "# first step, we ask for inputing both numbers and choice of calculation\n",
    "def ask_for_input ():\n",
    "    first_number = input('Please choose your first number (zero to five): ');\n",
    "    calculation = input('What do you want to do? plus or minus: ');\n",
    "    second_number = input('Please choose your second number (zero to five): ');\n",
    "    return (first_number, calculation, second_number);\n"
   ]
  },
  {
   "cell_type": "code",
   "execution_count": 20,
   "id": "90f570df",
   "metadata": {},
   "outputs": [],
   "source": [
    "# Check whether the input numbers are valid within the given set of numbers\n",
    "def check_number_input (number):\n",
    "    VALID_NUMBERS = ['zero', 'one', 'two', 'three', 'four', 'five'];\n",
    "    return number in VALID_NUMBERS;"
   ]
  },
  {
   "cell_type": "code",
   "execution_count": 27,
   "id": "41fd4375",
   "metadata": {},
   "outputs": [],
   "source": [
    "# Check whether the choice of calculation is either a + or -\n",
    "def check_calculation_input (calculation):\n",
    "    VALID_CALCULATION = ['minus', 'plus'];\n",
    "    return calculation in VALID_CALCULATION;"
   ]
  },
  {
   "cell_type": "code",
   "execution_count": 22,
   "id": "cc564529",
   "metadata": {},
   "outputs": [],
   "source": [
    "# We combine both given numbers and the choice of calculation in one operation\n",
    "def check_inputs (first_number, calculation, second_number):\n",
    "    is_first_number_valid = check_number_input(first_number);\n",
    "    is_calculation_valid = check_calculation_input(calculation);\n",
    "    is_second_number_valid = check_number_input(second_number);\n",
    "    \n",
    "    return is_first_number_valid and is_calculation_valid and is_second_number_valid;\n"
   ]
  },
  {
   "cell_type": "code",
   "execution_count": 23,
   "id": "26fba908",
   "metadata": {},
   "outputs": [],
   "source": [
    "# We complete the equation plus or minus of the the 2 numbers\n",
    "def equation (first_number, calculation, second_number):\n",
    "    NUMBERS_DICT = {'zero': '0', 'one': '1', 'two': '2', 'three': '3', 'four': '4', 'five': '5'};\n",
    "    CALCULATION_DICT = {'minus': '-', 'plus': '+'};\n",
    "    return eval(\"{} {} {}\".format(NUMBERS_DICT[first_number], CALCULATION_DICT[calculation], NUMBERS_DICT[second_number]));\n"
   ]
  },
  {
   "cell_type": "code",
   "execution_count": 24,
   "id": "322cd581",
   "metadata": {},
   "outputs": [],
   "source": [
    "# we reconvert the integer into a string \n",
    "def find_str_result (num_result):\n",
    "    NUMBERS_DICT = {'0': 'zero', '1': 'one', '2': 'two', '3': 'three', '4': 'four', \n",
    "                    '5': 'five', '6': 'six', '7': 'seven', '8': 'eight', '9': 'nine', '10': 'ten'};\n",
    "    return NUMBERS_DICT[str(num_result)] if num_result >= 0 else \"negative {}\".format(NUMBERS_DICT[str(num_result)[-1]])\n"
   ]
  },
  {
   "cell_type": "code",
   "execution_count": 25,
   "id": "81210b67",
   "metadata": {},
   "outputs": [],
   "source": [
    "def dumb_calculation ():\n",
    "    print('Welcome to this calculator!');\n",
    "    print('It can add and subtract whole numbers from zero to five');\n",
    "\n",
    "    first_number, calculation, second_number = ask_for_input();\n",
    "    valid_inputs = check_inputs(first_number, calculation, second_number);\n",
    "\n",
    "    if not (valid_inputs):\n",
    "        print(\"I am not able to answer this question. Check your input.\");\n",
    "    else:\n",
    "        num_result = equation(first_number, calculation, second_number);\n",
    "        result = find_str_result(num_result);\n",
    "        print(\"{} {} {} equals {}\".format(first_number, calculation, second_number, result));\n",
    "\n",
    "    print(\"Thanks for using this calculator, goodbye :)\")\n"
   ]
  },
  {
   "cell_type": "code",
   "execution_count": 30,
   "id": "8ba24abf",
   "metadata": {},
   "outputs": [
    {
     "name": "stdout",
     "output_type": "stream",
     "text": [
      "Welcome to this calculator!\n",
      "It can add and subtract whole numbers from zero to five\n",
      "Please choose your first number (zero to five): six\n",
      "What do you want to do? plus or minus: plus\n",
      "Please choose your second number (zero to five): two\n",
      "I am not able to answer this question. Check your input.\n",
      "Thanks for using this calculator, goodbye :)\n"
     ]
    }
   ],
   "source": [
    "dumb_calculation();"
   ]
  },
  {
   "cell_type": "code",
   "execution_count": null,
   "id": "1b72ec34",
   "metadata": {},
   "outputs": [],
   "source": []
  }
 ],
 "metadata": {
  "kernelspec": {
   "display_name": "Python 3",
   "language": "python",
   "name": "python3"
  },
  "language_info": {
   "codemirror_mode": {
    "name": "ipython",
    "version": 3
   },
   "file_extension": ".py",
   "mimetype": "text/x-python",
   "name": "python",
   "nbconvert_exporter": "python",
   "pygments_lexer": "ipython3",
   "version": "3.8.8"
  }
 },
 "nbformat": 4,
 "nbformat_minor": 5
}
