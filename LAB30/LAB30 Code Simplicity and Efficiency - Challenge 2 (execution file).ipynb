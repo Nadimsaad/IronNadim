{
 "cells": [
  {
   "cell_type": "code",
   "execution_count": 9,
   "id": "5e23c265",
   "metadata": {},
   "outputs": [],
   "source": [
    "import numpy as np\n",
    "import pandas as pd"
   ]
  },
  {
   "cell_type": "code",
   "execution_count": 10,
   "id": "c10a5a89",
   "metadata": {},
   "outputs": [
    {
     "name": "stdout",
     "output_type": "stream",
     "text": [
      "Enter minimum string length: 9\n",
      "Enter maximum string length: 10\n",
      "How many random strings to generate? 3\n",
      "['5vwxhz1go', 'rq4o2mv0u', '1xfj5az7m']\n"
     ]
    }
   ],
   "source": [
    "exec(open(r'/Users/nadimsaad/Desktop/IRONHACK/Module 1/Week 3/Day 14/LAB30 Code Simplicity and Efficiency - Challenge 2.py').read())"
   ]
  }
 ],
 "metadata": {
  "kernelspec": {
   "display_name": "Python 3",
   "language": "python",
   "name": "python3"
  },
  "language_info": {
   "codemirror_mode": {
    "name": "ipython",
    "version": 3
   },
   "file_extension": ".py",
   "mimetype": "text/x-python",
   "name": "python",
   "nbconvert_exporter": "python",
   "pygments_lexer": "ipython3",
   "version": "3.8.8"
  }
 },
 "nbformat": 4,
 "nbformat_minor": 5
}
