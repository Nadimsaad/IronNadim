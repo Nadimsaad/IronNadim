{
 "cells": [
  {
   "cell_type": "code",
   "execution_count": null,
   "id": "68ebe775",
   "metadata": {},
   "outputs": [],
   "source": [
    "# Challenge 2"
   ]
  },
  {
   "cell_type": "code",
   "execution_count": 4,
   "id": "e335b9e6",
   "metadata": {},
   "outputs": [],
   "source": [
    "import numpy as np\n",
    "import pandas as pd"
   ]
  },
  {
   "cell_type": "code",
   "execution_count": 5,
   "id": "ddf941f5",
   "metadata": {},
   "outputs": [],
   "source": [
    "import random\n",
    "import sys\n",
    "import string"
   ]
  },
  {
   "cell_type": "code",
   "execution_count": 7,
   "id": "59bf1d10",
   "metadata": {},
   "outputs": [],
   "source": [
    "# The code below generates a given number of random strings that consists of numbers and lower case English \n",
    "# letters. You can also define the range of the variable lengths of the strings being generated.\n",
    "\n",
    "# The code is functional but has a lot of room for improvement. Use what you have learned\n",
    "# about simple and efficient code, refactor the code."
   ]
  },
  {
   "cell_type": "code",
   "execution_count": 9,
   "id": "222e7fbb",
   "metadata": {},
   "outputs": [],
   "source": [
    "def random_string_generator(length=12):\n",
    "    ALPHA_NUM = [chr(item) for item in list(range(97,123)) + list(range(48,58))];\n",
    "    return \"\".join(random.sample(ALPHA_NUM, length));"
   ]
  },
  {
   "cell_type": "code",
   "execution_count": 10,
   "id": "fe88cb6b",
   "metadata": {},
   "outputs": [],
   "source": [
    "def batch_string_generator(n_strings, min_len=8, max_len=12):\n",
    "    if min_len > max_len:\n",
    "        return sys.exit('Incorrect min and max string lengths. Try again.');\n",
    "    else:\n",
    "        var_len = [min_len \n",
    "            if min_len == max_len \n",
    "            else random.choice(range(min_len, max_len)) \n",
    "                for n in range(n_strings)];\n",
    "        return list(map(random_string_generator, var_len));\n"
   ]
  },
  {
   "cell_type": "code",
   "execution_count": 11,
   "id": "3375cded",
   "metadata": {},
   "outputs": [
    {
     "name": "stdout",
     "output_type": "stream",
     "text": [
      "Enter minimum string length: 8\n",
      "Enter maximum string length: 11\n",
      "How many random strings to generate? 2\n",
      "['3mq78h90', '50ngpjke']\n"
     ]
    }
   ],
   "source": [
    "min_len = input('Enter minimum string length: ');\n",
    "max_len = input('Enter maximum string length: ');\n",
    "n_strings = input('How many random strings to generate? ');\n",
    "print(batch_string_generator(int(n_strings), int(min_len), int(max_len)));"
   ]
  }
 ],
 "metadata": {
  "kernelspec": {
   "display_name": "Python 3",
   "language": "python",
   "name": "python3"
  },
  "language_info": {
   "codemirror_mode": {
    "name": "ipython",
    "version": 3
   },
   "file_extension": ".py",
   "mimetype": "text/x-python",
   "name": "python",
   "nbconvert_exporter": "python",
   "pygments_lexer": "ipython3",
   "version": "3.8.8"
  }
 },
 "nbformat": 4,
 "nbformat_minor": 5
}
