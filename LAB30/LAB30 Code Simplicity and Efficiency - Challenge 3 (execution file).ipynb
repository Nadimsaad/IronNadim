{
 "cells": [
  {
   "cell_type": "code",
   "execution_count": 16,
   "id": "79ff3e9e",
   "metadata": {},
   "outputs": [],
   "source": [
    "import numpy as np\n",
    "import pandas as pd"
   ]
  },
  {
   "cell_type": "code",
   "execution_count": 17,
   "id": "74e13538",
   "metadata": {},
   "outputs": [
    {
     "name": "stdout",
     "output_type": "stream",
     "text": [
      "What is the maximal length of the triangle side? Enter a number: 8\n",
      "The longest side possible is 5\n"
     ]
    }
   ],
   "source": [
    "exec(open(r'/Users/nadimsaad/Desktop/IRONHACK/Module 1/Week 3/Day 14/LAB30 Code Simplicity and Efficiency Challenge 3.py').read())"
   ]
  },
  {
   "cell_type": "code",
   "execution_count": null,
   "id": "13177444",
   "metadata": {},
   "outputs": [],
   "source": []
  }
 ],
 "metadata": {
  "kernelspec": {
   "display_name": "Python 3",
   "language": "python",
   "name": "python3"
  },
  "language_info": {
   "codemirror_mode": {
    "name": "ipython",
    "version": 3
   },
   "file_extension": ".py",
   "mimetype": "text/x-python",
   "name": "python",
   "nbconvert_exporter": "python",
   "pygments_lexer": "ipython3",
   "version": "3.8.8"
  }
 },
 "nbformat": 4,
 "nbformat_minor": 5
}
