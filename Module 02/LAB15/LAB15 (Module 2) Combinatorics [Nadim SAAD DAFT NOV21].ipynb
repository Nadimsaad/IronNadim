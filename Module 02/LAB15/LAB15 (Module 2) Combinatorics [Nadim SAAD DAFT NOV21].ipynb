{
 "cells": [
  {
   "cell_type": "code",
   "execution_count": 1,
   "id": "6d27c500",
   "metadata": {},
   "outputs": [],
   "source": [
    "import numpy as np\n",
    "import pandas as pd"
   ]
  },
  {
   "cell_type": "markdown",
   "id": "8666a102",
   "metadata": {},
   "source": [
    "Challenge 1. Write a Python program to print all permutations of the string \"Ironhack\""
   ]
  },
  {
   "cell_type": "code",
   "execution_count": null,
   "id": "04abcf14",
   "metadata": {},
   "outputs": [],
   "source": [
    "\n",
    "string = 'Ironhack'\n",
    "x =[]\n",
    "\n",
    "for i in string:\n",
    "    x.append(i)\n",
    "    \n",
    "print(x)\n",
    "\n",
    "def permutations(start, end=[]):\n",
    "    if len(start) == 0:\n",
    "        print(end)\n",
    "    else:\n",
    "        for i in range(len(start)):\n",
    "            \n",
    "            permutations(start[:i] + start[i+1:], end + start[i:i+1])\n",
    "            \n",
    "permutations(x)\n"
   ]
  },
  {
   "cell_type": "markdown",
   "id": "1350ef3f",
   "metadata": {},
   "source": [
    "Challenge 2: How many ways can you choose 3 people from a group of 17 for making the group projects teams?"
   ]
  },
  {
   "cell_type": "code",
   "execution_count": 5,
   "id": "a8736a6c",
   "metadata": {},
   "outputs": [
    {
     "data": {
      "text/plain": [
       "24480.0"
      ]
     },
     "execution_count": 5,
     "metadata": {},
     "output_type": "execute_result"
    }
   ],
   "source": [
    "from math import factorial \n",
    "\n",
    "n = 17\n",
    "m = 3\n",
    "possibilities = factorial(n) / factorial(n-m) * factorial(m)\n",
    "\n",
    "possibilities\n"
   ]
  },
  {
   "cell_type": "markdown",
   "id": "a7aac8e4",
   "metadata": {},
   "source": [
    "Challenge 3: Let's imagine you need to organize the business processes in the coffee shop. You know that each cup can be made from 10 possible ingredients. But it is not profitable to use more than 5 portions of ingredients at once. These ingredients should not be unique (for example, you can put milk twice, and a chocolate once). How many different variations of coffee you can include to the menu?"
   ]
  },
  {
   "cell_type": "code",
   "execution_count": 6,
   "id": "b31aefec",
   "metadata": {},
   "outputs": [
    {
     "data": {
      "text/plain": [
       "263627152588800.0"
      ]
     },
     "execution_count": 6,
     "metadata": {},
     "output_type": "execute_result"
    }
   ],
   "source": [
    "n = 10\n",
    "m = 5\n",
    "cups = factorial(m+n-1)/factorial(m)*factorial(n-1)\n",
    "cups"
   ]
  },
  {
   "cell_type": "markdown",
   "id": "df96c245",
   "metadata": {},
   "source": [
    "Challenge 4: Given an array of distinct integers, return all the possible permutations. You can return the answer in any order. The lenght of array and the integers are given by user and may vary"
   ]
  },
  {
   "cell_type": "code",
   "execution_count": null,
   "id": "64f3ba6f",
   "metadata": {},
   "outputs": [],
   "source": [
    "number = str(input('Enter a number'))\n",
    "\n",
    "array = []\n",
    "\n",
    "for i in number:\n",
    "    array.append(i)\n",
    "    \n",
    "print(array)\n",
    "\n",
    "def permutation (start, end=[]):\n",
    "    \n",
    "    if len(start) == 0:\n",
    "        print(end)\n",
    "        \n",
    "    else:\n",
    "        for i in range(len(start)):\n",
    "            permutation(start[:i] + start[i+1:], end + start[i:i+1])\n",
    "            \n",
    "permutation(array)\n"
   ]
  },
  {
   "cell_type": "markdown",
   "id": "027ca7c5",
   "metadata": {},
   "source": [
    "Challenge 5: Use intertools library to solve the following problem: Six books are lying on a table in front of you. How many ways can you arrange the books, considering both the left-to-right order of the books and whether they’re set with the front cover facing up or down?"
   ]
  },
  {
   "cell_type": "code",
   "execution_count": null,
   "id": "52ba9b11",
   "metadata": {},
   "outputs": [],
   "source": []
  },
  {
   "cell_type": "code",
   "execution_count": null,
   "id": "139167a5",
   "metadata": {},
   "outputs": [],
   "source": []
  }
 ],
 "metadata": {
  "kernelspec": {
   "display_name": "Python 3",
   "language": "python",
   "name": "python3"
  },
  "language_info": {
   "codemirror_mode": {
    "name": "ipython",
    "version": 3
   },
   "file_extension": ".py",
   "mimetype": "text/x-python",
   "name": "python",
   "nbconvert_exporter": "python",
   "pygments_lexer": "ipython3",
   "version": "3.8.8"
  }
 },
 "nbformat": 4,
 "nbformat_minor": 5
}
