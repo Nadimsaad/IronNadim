{
 "cells": [
  {
   "cell_type": "code",
   "execution_count": null,
   "id": "325d26b7",
   "metadata": {},
   "outputs": [],
   "source": [
    "Exercise 1: Counting sheep\n",
    "\n",
    "# Consider an array/list of sheep where some sheep may be missing from their place. \n",
    "# We need a function that counts the number of sheep present in the array (true means present)."
   ]
  },
  {
   "cell_type": "code",
   "execution_count": 21,
   "id": "2dd65af3",
   "metadata": {},
   "outputs": [
    {
     "data": {
      "text/plain": [
       "17"
      ]
     },
     "execution_count": 21,
     "metadata": {},
     "output_type": "execute_result"
    }
   ],
   "source": [
    "import functools\n",
    "\n",
    "list_of_sheeps = [\"true\",\"true\",\"true\",\"false\",\"true\",\"true\",\"true\",\"true\",\"true\",\"false\",\"true\",\"false\",\"true\", \"false\",\"false\",\"true\",\n",
    "\"true\",\"true\",\"true\",\"true\",\"false\",\"false\",\"true\",\"true\"]\n",
    "\n",
    "def count_sheeps(list_of_sheeps):\n",
    "    amount = 0\n",
    "    for sheep in list_of_sheeps:\n",
    "        if (sheep == \"true\"):\n",
    "            amount += 1\n",
    "    return amount\n",
    "count_sheeps(list_of_sheeps)"
   ]
  },
  {
   "cell_type": "code",
   "execution_count": null,
   "id": "d30c0ed4",
   "metadata": {},
   "outputs": [],
   "source": [
    "Exercise 2: Removing Elements\n",
    "    \n",
    "# Take an array and remove every second element from the array. \n",
    "# Always keep the first element and start removing with the next element."
   ]
  },
  {
   "cell_type": "code",
   "execution_count": 26,
   "id": "2a594f0e",
   "metadata": {},
   "outputs": [
    {
     "data": {
      "text/plain": [
       "['Keep', 'Keep', 'Keep']"
      ]
     },
     "execution_count": 26,
     "metadata": {},
     "output_type": "execute_result"
    }
   ],
   "source": [
    "list = [\"Keep\", \"Remove\", \"Keep\", \"Remove\", \"Keep\"] \n",
    "\n",
    "def remove_every_other_word(list):\n",
    "    return list[::2]\n",
    "remove_every_other_word(list)"
   ]
  },
  {
   "cell_type": "code",
   "execution_count": null,
   "id": "0c90779f",
   "metadata": {},
   "outputs": [],
   "source": [
    "Exercise 3: Convert number to reversed array of digits\n",
    "    \n",
    "# Convert number to reversed array of digits. Given a random non-negative number, \n",
    "# you have to return the digits of this number within an array in reverse order.\n",
    "# 348597 => [7,9,5,8,4,3]"
   ]
  },
  {
   "cell_type": "code",
   "execution_count": 5,
   "id": "01bbab07",
   "metadata": {},
   "outputs": [
    {
     "name": "stdout",
     "output_type": "stream",
     "text": [
      "Original Array is:  [3, 4, 8, 5, 9, 7]\n"
     ]
    },
    {
     "data": {
      "text/plain": [
       "[7, 9, 5, 8, 4, 3]"
      ]
     },
     "execution_count": 5,
     "metadata": {},
     "output_type": "execute_result"
    }
   ],
   "source": [
    "original_array=[3,4,8,5,9,7]\n",
    "print(\"Original Array is: \",original_array)\n",
    "\n",
    "def reversed_array(original_array):\n",
    "    return original_array[::-1]\n",
    "reversed_array(original_array)"
   ]
  },
  {
   "cell_type": "code",
   "execution_count": null,
   "id": "c337b660",
   "metadata": {},
   "outputs": [],
   "source": [
    "Exercise 4: Square Every Digit\n",
    "    \n",
    "# Square every digit of a number and concatenate them.\n",
    "# For example, if we run 9119 through the function, 811181 will come out, because 92 is 81 and 12 is 1.\n",
    "# Note: The function accepts an integer and returns an integer"
   ]
  },
  {
   "cell_type": "code",
   "execution_count": 24,
   "id": "0d08a73a",
   "metadata": {},
   "outputs": [
    {
     "name": "stdout",
     "output_type": "stream",
     "text": [
      "81\n",
      "1\n",
      "1\n",
      "81\n",
      "concatenated value is: 164\n"
     ]
    }
   ],
   "source": [
    "def square_digits(num):\n",
    "    x = 0\n",
    "    for i in str(num):\n",
    "        y = int(i) * int(i)\n",
    "        print(y)\n",
    "        x += y \n",
    "    print ('concatenated value is:', x)\n",
    "square_digits(str(9119))"
   ]
  },
  {
   "cell_type": "code",
   "execution_count": null,
   "id": "498ec8b4",
   "metadata": {},
   "outputs": [],
   "source": [
    "Exercise 5: Method For Counting Total Occurence Of Specific Digits\n",
    "    \n",
    "# We need a method in the List Class that may count specific digits from a given list of integers. \n",
    "# This marked digits will be given in a second list. \n",
    "# The method .count_spec_digits()/.countSpecDigits() will accept two arguments, \n",
    "# a list of an uncertain amount of integers integers_lists/integersLists \n",
    "# (and of an uncertain amount of digits, too) and a second list, digits_list/digitsList that has \n",
    "# the specific digits to count which length cannot be be longer than 10 (It's obvious, we've got ten digits). \n",
    "# The method will output a list of tuples, each tuple having two elements, \n",
    "# the first one will be a digit to count, and second one, its corresponding total frequency \n",
    "# in all the integers of the first list. This list of tuples should be ordered with the same order that \n",
    "# the digits have in digitsList"
   ]
  },
  {
   "cell_type": "code",
   "execution_count": null,
   "id": "ef9451fc",
   "metadata": {},
   "outputs": [],
   "source": [
    "l = List()\n",
    "\n",
    "integersList =  [1, 1, 2 ,3 ,1 ,2 ,3 ,4]\n",
    "digitsList = [1, 3]\n",
    "l.count_spec_digits(integersList, digitsList) == [(1, 3), (3, 2)]\n",
    "\n",
    "integersList = [-18, -31, 81, -19, 111, -888]\n",
    "digitsList = [1, 8, 4]\n",
    "l.count_spec_digits(integersList, digitsList) == [(1, 7), (8, 5), (4, 0)]\n",
    "\n",
    "integersList = [-77, -65, 56, -79, 6666, 222]\n",
    "digitsList = [1, 8, 4]\n",
    "l.count_spec_digits(integersList, digitsList) == [(1, 0), (8, 0), (4, 0)]"
   ]
  },
  {
   "cell_type": "code",
   "execution_count": null,
   "id": "f3504754",
   "metadata": {},
   "outputs": [],
   "source": []
  }
 ],
 "metadata": {
  "kernelspec": {
   "display_name": "Python 3",
   "language": "python",
   "name": "python3"
  },
  "language_info": {
   "codemirror_mode": {
    "name": "ipython",
    "version": 3
   },
   "file_extension": ".py",
   "mimetype": "text/x-python",
   "name": "python",
   "nbconvert_exporter": "python",
   "pygments_lexer": "ipython3",
   "version": "3.8.8"
  }
 },
 "nbformat": 4,
 "nbformat_minor": 5
}
